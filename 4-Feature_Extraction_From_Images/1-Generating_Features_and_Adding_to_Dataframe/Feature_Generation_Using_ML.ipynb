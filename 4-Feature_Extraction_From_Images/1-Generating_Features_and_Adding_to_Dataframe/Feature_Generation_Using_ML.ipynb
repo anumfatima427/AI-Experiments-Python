import cv2
from matplotlib import pyplot as plt
from skimage.filters.rank import entropy 
from skimage.morphology import disk

img = cv2.imread("D:\Anum\Learning ML DL\Segmentation_Using_ML\Generating_Features\Yeast.jpg")
plt.imshow(img)
#you have to see which filter is the right one to describe your image
img = cv2.cvtColor(img, cv2.COLOR_BGR2GRAY)
img.shape
entropy_image = entropy(img, disk(1))
cv2.imshow('Entropy', entropy_image)
cv2.waitKey()
cv2.destroyAllWindows()
cv2.imwrite('D:\Anum\Learning ML DL\Segmentation_Using_ML\Generating_Features\entropy_image.png', entropy_image)


#lets try gaussian blur

from scipy import ndimage as nd

gaussian_img = nd.gaussian_filter(img, sigma=2)
cv2.imshow('Gaussian Filter', gaussian_img)
cv2.waitKey()
cv2.destroyAllWindows()
cv2.imwrite('D:\Anum\Learning ML DL\Segmentation_Using_ML\Generating_Features\gaussian.png', gaussian_img)



#lets try sobel
from skimage.filters import sobel
sobel_img = sobel(img)
cv2.imshow('Sobel Filter', gaussian_img)
cv2.waitKey()
cv2.destroyAllWindows()
cv2.imwrite('D:\Anum\Learning ML DL\Segmentation_Using_ML\Generating_Features\sobel.png', sobel_img)


#now we know how we can extract different features from the image, but how to use them together to
#create a pandas df that we can input to a ML model

import cv2
from matplotlib import pyplot as plt
from skimage.filters.rank import entropy 
from skimage.morphology import disk
from scipy import ndimage as nd
from skimage.filters import sobel
import pandas as pd

img = cv2.imread("D:\Anum\Learning ML DL\Segmentation_Using_ML\Generating_Features\Yeast.jpg") #imported image is a 3 dim array (height, width, color_channels)
img = cv2.cvtColor(img, cv2.COLOR_BGR2GRAY) #converted into 2D(height, width) 
img2 = img.reshape(-1) #converting into one single array 

df = pd.DataFrame() #we have made an empty dataframe which we are going to fill with features we generate from input image!
df['Original Pixel Values'] = img2 


#entropy filter
entropy_image = entropy(img, disk(1))
entropy1 = entropy_image.reshape(-1)
df['Entropy'] = entropy1

#gaussian filter
gaussian_img = nd.gaussian_filter(img, sigma=2)
gaussian2 = gaussian_img.reshape(-1)
df['Gaussian'] = gaussian2

#sobel filter
sobel_img = sobel(img)
sobel2 = sobel_img.reshape(-1)
df['Sobel'] = sobel2

print(df.head())
#now we have individual feature vectors at every pixel
 
#now we can use this in our ML model

 